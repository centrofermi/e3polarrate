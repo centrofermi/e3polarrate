ASCII rates used in the notebook are available in Pandora
https://pandora.infn.it/public/db4c10
